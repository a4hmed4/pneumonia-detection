{
 "cells": [
  {
   "cell_type": "code",
   "execution_count": 5,
   "id": "2a04aa4d",
   "metadata": {},
   "outputs": [
    {
     "ename": "ModuleNotFoundError",
     "evalue": "No module named 'cupy'",
     "output_type": "error",
     "traceback": [
      "\u001b[1;31m---------------------------------------------------------------------------\u001b[0m",
      "\u001b[1;31mModuleNotFoundError\u001b[0m                       Traceback (most recent call last)",
      "\u001b[1;32mC:\\Users\\AHMED~1.DES\\AppData\\Local\\Temp/ipykernel_21808/3161004544.py\u001b[0m in \u001b[0;36m<module>\u001b[1;34m\u001b[0m\n\u001b[0;32m      3\u001b[0m \u001b[1;32mfrom\u001b[0m \u001b[0mtime\u001b[0m \u001b[1;32mimport\u001b[0m \u001b[0mtime\u001b[0m\u001b[1;33m\u001b[0m\u001b[1;33m\u001b[0m\u001b[0m\n\u001b[0;32m      4\u001b[0m \u001b[1;32mimport\u001b[0m \u001b[0mos\u001b[0m\u001b[1;33m\u001b[0m\u001b[1;33m\u001b[0m\u001b[0m\n\u001b[1;32m----> 5\u001b[1;33m \u001b[1;32mimport\u001b[0m \u001b[0mcupy\u001b[0m\u001b[1;33m\u001b[0m\u001b[1;33m\u001b[0m\u001b[0m\n\u001b[0m\u001b[0;32m      6\u001b[0m \u001b[1;32mfrom\u001b[0m \u001b[0mPIL\u001b[0m \u001b[1;32mimport\u001b[0m \u001b[0mImage\u001b[0m\u001b[1;33m\u001b[0m\u001b[1;33m\u001b[0m\u001b[0m\n\u001b[0;32m      7\u001b[0m \u001b[1;32mfrom\u001b[0m \u001b[0msklearn\u001b[0m\u001b[1;33m.\u001b[0m\u001b[0mmodel_selection\u001b[0m \u001b[1;32mimport\u001b[0m \u001b[0mGridSearchCV\u001b[0m\u001b[1;33m\u001b[0m\u001b[1;33m\u001b[0m\u001b[0m\n",
      "\u001b[1;31mModuleNotFoundError\u001b[0m: No module named 'cupy'"
     ]
    }
   ],
   "source": [
    "import numpy as np\n",
    "import pandas as pd\n",
    "from time import time\n",
    "import os\n",
    "import cupy\n",
    "from PIL import Image\n",
    "from sklearn.model_selection import GridSearchCV\n",
    "from sklearn.metrics import classification_report\n",
    "from cuml.metrics import confusion_matrix\n",
    "\n",
    "train = []\n",
    "val = []\n",
    "test = []\n",
    "y_train = []\n",
    "y_val = []\n",
    "y_test = []\n",
    "WIDTH, HEIGHT = 200, 230 # Using higher dimensions require CUDA 11.0\n",
    "\n",
    "for dirname, _, filenames in os.walk('/kaggle/input/chest-xray-pneumonia/chest_xray/train/'):\n",
    "    category = 0 if dirname.endswith('NORMAL') else 1\n",
    "    y_train = y_train + [category for _ in filenames]\n",
    "    for filename in filenames:\n",
    "        train.append(os.path.join(dirname, filename))\n",
    "for dirname, _, filenames in os.walk('/kaggle/input/chest-xray-pneumonia/chest_xray/val/'):\n",
    "    category = 0 if dirname.endswith('NORMAL') else 1\n",
    "    y_val = y_val + [category for _ in filenames]\n",
    "    for filename in filenames:\n",
    "        val.append(os.path.join(dirname, filename))\n",
    "for dirname, _, filenames in os.walk('/kaggle/input/chest-xray-pneumonia/chest_xray/test/'):\n",
    "    category = 0 if dirname.endswith('NORMAL') else 1\n",
    "    y_test = y_test + [category for _ in filenames]\n",
    "    for filename in filenames:\n",
    "        test.append(os.path.join(dirname, filename))\n",
    "\n",
    "\n",
    "print('Train size: ' + str(len(train)))\n",
    "print('Val size: ' + str(len(val)))\n",
    "print('Test size: ' + str(len(test)))"
   ]
  },
  {
   "cell_type": "code",
   "execution_count": 6,
   "id": "54d58731",
   "metadata": {},
   "outputs": [
    {
     "name": "stdout",
     "output_type": "stream",
     "text": [
      "Note: you may need to restart the kernel to use updated packages.\n",
      "Requirement already satisfied: pillow in c:\\users\\ahmed.desktop-14p9qrt\\anaconda3\\lib\\site-packages (8.4.0)\n"
     ]
    }
   ],
   "source": [
    "pip install pillow"
   ]
  },
  {
   "cell_type": "code",
   "execution_count": 7,
   "id": "b19a69f2",
   "metadata": {},
   "outputs": [
    {
     "name": "stdout",
     "output_type": "stream",
     "text": [
      "Collecting albumentationsNote: you may need to restart the kernel to use updated packages.\n"
     ]
    },
    {
     "name": "stderr",
     "output_type": "stream",
     "text": [
      "ERROR: Could not install packages due to an OSError: [WinError 5] Access is denied: 'C:\\\\Users\\\\ahmed.DESKTOP-14P9QRT\\\\anaconda3\\\\Lib\\\\site-packages\\\\cv2\\\\cv2.pyd'\n",
      "Consider using the `--user` option or check the permissions.\n",
      "\n"
     ]
    },
    {
     "name": "stdout",
     "output_type": "stream",
     "text": [
      "\n",
      "  Downloading albumentations-1.3.0-py3-none-any.whl (123 kB)\n",
      "Collecting qudida>=0.0.4\n",
      "  Downloading qudida-0.0.4-py3-none-any.whl (3.5 kB)\n",
      "Requirement already satisfied: scikit-image>=0.16.1 in c:\\users\\ahmed.desktop-14p9qrt\\anaconda3\\lib\\site-packages (from albumentations) (0.18.3)\n",
      "Requirement already satisfied: numpy>=1.11.1 in c:\\users\\ahmed.desktop-14p9qrt\\anaconda3\\lib\\site-packages (from albumentations) (1.20.3)\n",
      "Requirement already satisfied: PyYAML in c:\\users\\ahmed.desktop-14p9qrt\\anaconda3\\lib\\site-packages (from albumentations) (6.0)\n",
      "Collecting opencv-python-headless>=4.1.1\n",
      "  Downloading opencv_python_headless-4.6.0.66-cp36-abi3-win_amd64.whl (35.5 MB)\n",
      "Requirement already satisfied: scipy in c:\\users\\ahmed.desktop-14p9qrt\\anaconda3\\lib\\site-packages (from albumentations) (1.7.1)\n",
      "Requirement already satisfied: scikit-learn>=0.19.1 in c:\\users\\ahmed.desktop-14p9qrt\\anaconda3\\lib\\site-packages (from qudida>=0.0.4->albumentations) (0.24.2)\n",
      "Requirement already satisfied: typing-extensions in c:\\users\\ahmed.desktop-14p9qrt\\anaconda3\\lib\\site-packages (from qudida>=0.0.4->albumentations) (3.10.0.2)\n",
      "Requirement already satisfied: matplotlib!=3.0.0,>=2.0.0 in c:\\users\\ahmed.desktop-14p9qrt\\anaconda3\\lib\\site-packages (from scikit-image>=0.16.1->albumentations) (3.4.3)\n",
      "Requirement already satisfied: networkx>=2.0 in c:\\users\\ahmed.desktop-14p9qrt\\anaconda3\\lib\\site-packages (from scikit-image>=0.16.1->albumentations) (2.6.3)\n",
      "Requirement already satisfied: pillow!=7.1.0,!=7.1.1,>=4.3.0 in c:\\users\\ahmed.desktop-14p9qrt\\anaconda3\\lib\\site-packages (from scikit-image>=0.16.1->albumentations) (8.4.0)\n",
      "Requirement already satisfied: imageio>=2.3.0 in c:\\users\\ahmed.desktop-14p9qrt\\anaconda3\\lib\\site-packages (from scikit-image>=0.16.1->albumentations) (2.9.0)\n",
      "Requirement already satisfied: tifffile>=2019.7.26 in c:\\users\\ahmed.desktop-14p9qrt\\anaconda3\\lib\\site-packages (from scikit-image>=0.16.1->albumentations) (2021.7.2)\n",
      "Requirement already satisfied: PyWavelets>=1.1.1 in c:\\users\\ahmed.desktop-14p9qrt\\anaconda3\\lib\\site-packages (from scikit-image>=0.16.1->albumentations) (1.1.1)\n",
      "Requirement already satisfied: cycler>=0.10 in c:\\users\\ahmed.desktop-14p9qrt\\anaconda3\\lib\\site-packages (from matplotlib!=3.0.0,>=2.0.0->scikit-image>=0.16.1->albumentations) (0.10.0)\n",
      "Requirement already satisfied: pyparsing>=2.2.1 in c:\\users\\ahmed.desktop-14p9qrt\\anaconda3\\lib\\site-packages (from matplotlib!=3.0.0,>=2.0.0->scikit-image>=0.16.1->albumentations) (3.0.4)\n",
      "Requirement already satisfied: python-dateutil>=2.7 in c:\\users\\ahmed.desktop-14p9qrt\\anaconda3\\lib\\site-packages (from matplotlib!=3.0.0,>=2.0.0->scikit-image>=0.16.1->albumentations) (2.8.2)\n",
      "Requirement already satisfied: kiwisolver>=1.0.1 in c:\\users\\ahmed.desktop-14p9qrt\\anaconda3\\lib\\site-packages (from matplotlib!=3.0.0,>=2.0.0->scikit-image>=0.16.1->albumentations) (1.3.1)\n",
      "Requirement already satisfied: six in c:\\users\\ahmed.desktop-14p9qrt\\anaconda3\\lib\\site-packages (from cycler>=0.10->matplotlib!=3.0.0,>=2.0.0->scikit-image>=0.16.1->albumentations) (1.16.0)\n",
      "Requirement already satisfied: joblib>=0.11 in c:\\users\\ahmed.desktop-14p9qrt\\anaconda3\\lib\\site-packages (from scikit-learn>=0.19.1->qudida>=0.0.4->albumentations) (1.1.0)\n",
      "Requirement already satisfied: threadpoolctl>=2.0.0 in c:\\users\\ahmed.desktop-14p9qrt\\anaconda3\\lib\\site-packages (from scikit-learn>=0.19.1->qudida>=0.0.4->albumentations) (2.2.0)\n",
      "Installing collected packages: opencv-python-headless, qudida, albumentations\n"
     ]
    }
   ],
   "source": [
    "pip install albumentations"
   ]
  },
  {
   "cell_type": "code",
   "execution_count": 1,
   "id": "1433f124",
   "metadata": {},
   "outputs": [
    {
     "name": "stdout",
     "output_type": "stream",
     "text": [
      "Note: you may need to restart the kernel to use updated packages.\n"
     ]
    },
    {
     "name": "stderr",
     "output_type": "stream",
     "text": [
      "ERROR: Could not find a version that satisfies the requirement cv2 (from versions: none)\n",
      "ERROR: No matching distribution found for cv2\n"
     ]
    }
   ],
   "source": [
    "pip install cv2 "
   ]
  },
  {
   "cell_type": "code",
   "execution_count": 1,
   "id": "44edbcd8",
   "metadata": {},
   "outputs": [
    {
     "name": "stdout",
     "output_type": "stream",
     "text": [
      "Requirement already satisfied: sv in c:\\users\\ahmed.desktop-14p9qrt\\anaconda3\\lib\\site-packages (0.1)\n",
      "Requirement already satisfied: lxml in c:\\users\\ahmed.desktop-14p9qrt\\anaconda3\\lib\\site-packages (from sv) (4.6.3)\n",
      "Note: you may need to restart the kernel to use updated packages.\n"
     ]
    }
   ],
   "source": [
    "pip install sv"
   ]
  },
  {
   "cell_type": "code",
   "execution_count": 1,
   "id": "999304fa",
   "metadata": {},
   "outputs": [
    {
     "name": "stdout",
     "output_type": "stream",
     "text": [
      "Requirement already satisfied: opencv-python in c:\\users\\ahmed.desktop-14p9qrt\\anaconda3\\lib\\site-packages (4.6.0.66)\n",
      "Requirement already satisfied: numpy>=1.14.5 in c:\\users\\ahmed.desktop-14p9qrt\\anaconda3\\lib\\site-packages (from opencv-python) (1.20.3)\n",
      "Note: you may need to restart the kernel to use updated packages.\n"
     ]
    }
   ],
   "source": [
    "pip install opencv-python"
   ]
  },
  {
   "cell_type": "code",
   "execution_count": 1,
   "id": "f6ea7156",
   "metadata": {},
   "outputs": [
    {
     "name": "stdout",
     "output_type": "stream",
     "text": [
      "Requirement already satisfied: natsort in c:\\users\\ahmed.desktop-14p9qrt\\anaconda3\\lib\\site-packages (8.2.0)\n",
      "Note: you may need to restart the kernel to use updated packages.\n"
     ]
    }
   ],
   "source": [
    "pip install natsort"
   ]
  },
  {
   "cell_type": "code",
   "execution_count": null,
   "id": "ce75fd75",
   "metadata": {},
   "outputs": [],
   "source": []
  }
 ],
 "metadata": {
  "kernelspec": {
   "display_name": "Python 3 (ipykernel)",
   "language": "python",
   "name": "python3"
  },
  "language_info": {
   "codemirror_mode": {
    "name": "ipython",
    "version": 3
   },
   "file_extension": ".py",
   "mimetype": "text/x-python",
   "name": "python",
   "nbconvert_exporter": "python",
   "pygments_lexer": "ipython3",
   "version": "3.9.7"
  }
 },
 "nbformat": 4,
 "nbformat_minor": 5
}
